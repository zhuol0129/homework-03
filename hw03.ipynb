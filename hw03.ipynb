{
  "cells": [
    {
      "cell_type": "markdown",
      "metadata": {},
      "source": [
        "# DATASCI 101, Homework 03"
      ]
    },
    {
      "cell_type": "code",
      "execution_count": 18,
      "metadata": {},
      "outputs": [],
      "source": [
        "# basic setup, run this first\n",
        "import warnings\n",
        "warnings.simplefilter(action='ignore', category=FutureWarning)\n",
        "import numpy as np"
      ]
    },
    {
      "cell_type": "markdown",
      "metadata": {},
      "source": [
        "## Question 1\n",
        "\n",
        "We will start this homework with some questions on collections in Python.\n",
        "\n",
        "### Q1.a\n",
        "\n",
        "Recall that *sets* are collections where each value in the collection only appears once.\n",
        "\n",
        "Using the `set` function, turn both of these strings into sets. Then use set methods to find\n",
        "\n",
        "* How many letters are shared between the two names?\n",
        "* Which letters are in \"George Washington\" that are not in \"Abraham Lincoln\"?\n",
        "* How many letters are in neither president's name?\n"
      ]
    },
    {
      "cell_type": "code",
      "execution_count": 19,
      "metadata": {},
      "outputs": [
        {
          "name": "stdout",
          "output_type": "stream",
          "text": [
            "6\n",
            "{'e', 't', 's', 'g', 'w'}\n",
            "11\n"
          ]
        }
      ],
      "source": [
        "gw = \"George Washington\".lower()\n",
        "al = \"Abraham Lincoln\".lower()\n",
        "az = \"abcdefghijklmnopqrstuvwxyz\"\n",
        "\n",
        "set_gw = set(gw) - {\" \"}\n",
        "set_al = set(al) - {\" \"}\n",
        "set_az = set(az)\n",
        "\n",
        "shared = set_gw & set_al\n",
        "not_in_al = set_gw - set_al\n",
        "neither = set_az - (set_gw | set_al)\n",
        "\n",
        "print(len(shared))    \n",
        "print(not_in_al)        \n",
        "print(len(neither))  \n",
        "\n"
      ]
    },
    {
      "cell_type": "markdown",
      "metadata": {},
      "source": [
        "### Q1.b\n",
        "\n",
        "\n",
        "\n",
        "Use a `for` loop to find the unique values in the lunch orders below. Using Python, print out the number of unique items being ordered. (*Hint*: You can use `set()` to create an empty set.)"
      ]
    },
    {
      "cell_type": "code",
      "execution_count": 20,
      "metadata": {},
      "outputs": [
        {
          "name": "stdout",
          "output_type": "stream",
          "text": [
            "7\n"
          ]
        }
      ],
      "source": [
        "lunch_orders = [{\"pasta\", \"coffee\"},\n",
        "                {\"fries\",\"sandwich\", \"cookie\"},\n",
        "                {\"pasta\", \"salad\", \"water\"},\n",
        "                {\"salad\", \"pasta\", \"coffee\"},\n",
        "                {\"sandwich\", \"water\"}]\n",
        "\n",
        "unique_items = set()\n",
        "for order in lunch_orders:\n",
        "    unique_items.update(order)\n",
        "\n",
        "print(len(unique_items))\n"
      ]
    },
    {
      "cell_type": "markdown",
      "metadata": {},
      "source": [
        "### Q1.c\n",
        "\n",
        "Here is a menu at the resturant, with items and their cost:\n",
        "\n",
        "| Item | Price | Vegetarian |\n",
        "| --- | --- | --- |\n",
        "| salad | 8 | True |\n",
        "| soup | 5 | False |\n",
        "| pasta | 12 | True |\n",
        "| sandwich | 9 | False |\n",
        "| burger | 13 | False |\n",
        "| fries | 6 | True |\n",
        "| cake | 6 | True |\n",
        "| cookie| 3 | True |\n",
        "| water | 0 | True |\n",
        "| coffee| 2 | True |\n",
        "| soda | 3 | True |\n",
        "\n",
        "Create a dictionary called `menu` that has the item names as keys and a two-tuple with (price, vegetarian) as the value.\n",
        "\n",
        "Demonstrate by retrieving the price and vegetarian status of \"burger\".\n",
        "\n",
        "\n",
        "\n",
        "\n",
        "### Q1.d\n",
        "\n",
        "Write a function that takes a lunch order (a set of menu items) and returns the total price.\n",
        "\n",
        "Write a function that takes a lunch order a returns true if the entire order is vegetarian.\n",
        "\n",
        "Use list comprehensions to compute the price of each order and whether each order is vegtarian."
      ]
    },
    {
      "cell_type": "code",
      "execution_count": 21,
      "metadata": {},
      "outputs": [
        {
          "data": {
            "text/plain": [
              "(13, False)"
            ]
          },
          "execution_count": 21,
          "metadata": {},
          "output_type": "execute_result"
        }
      ],
      "source": [
        "\n",
        "menu = {\n",
        "    \"salad\": (8, True),\n",
        "    \"soup\": (5, False),\n",
        "    \"pasta\": (12, True),\n",
        "    \"sandwich\": (9, False),\n",
        "    \"burger\": (13, False),\n",
        "    \"fries\": (6, True),\n",
        "    \"cake\": (6, True),\n",
        "    \"cookie\": (3, True),\n",
        "    \"water\": (0, True),\n",
        "    \"coffee\": (2, True),\n",
        "    \"soda\": (3, True)\n",
        "}\n",
        "\n",
        "menu[\"burger\"]\n"
      ]
    },
    {
      "cell_type": "code",
      "execution_count": 22,
      "metadata": {},
      "outputs": [
        {
          "name": "stdout",
          "output_type": "stream",
          "text": [
            "Order: {'cookie', 'salad', 'soup', 'coffee', 'water'}\n",
            "Total Price: 18\n",
            "Is Vegetarian: False\n",
            "\n",
            "Order: {'fries', 'soda', 'burger'}\n",
            "Total Price: 22\n",
            "Is Vegetarian: False\n",
            "\n",
            "Order: {'water', 'salad', 'pasta'}\n",
            "Total Price: 20\n",
            "Is Vegetarian: True\n",
            "\n",
            "Order: {'cookie', 'sandwich', 'coffee'}\n",
            "Total Price: 14\n",
            "Is Vegetarian: False\n",
            "\n",
            "Order: {'coffee', 'cake', 'water'}\n",
            "Total Price: 8\n",
            "Is Vegetarian: True\n",
            "\n"
          ]
        }
      ],
      "source": [
        "# Hints: try running the following code\n",
        "# (\"this\", \"is\", \"a tuple\")[1]\n",
        "# [s.upper() for s in {\"hello\", \"world\"}]\n",
        "\n",
        "def total_price(order):\n",
        "    return sum(menu[item][0] for item in order)\n",
        "\n",
        "def is_vegetarian(order):\n",
        "    return all(menu[item][1] for item in order)\n",
        "\n",
        "#usage:\n",
        "orders = [\n",
        "    {\"soup\", \"salad\", \"water\", \"coffee\", \"cookie\"},\n",
        "    {\"burger\", \"fries\", \"soda\"},\n",
        "    {\"pasta\", \"salad\", \"water\"},\n",
        "    {\"sandwich\", \"coffee\", \"cookie\"},\n",
        "    {\"cake\", \"water\", \"coffee\"}\n",
        "]\n",
        "\n",
        "for order in orders:\n",
        "    print(f\"Order: {order}\")\n",
        "    print(f\"Total Price: {total_price(order)}\")\n",
        "    print(f\"Is Vegetarian: {is_vegetarian(order)}\\n\")\n",
        "\n",
        "\n"
      ]
    },
    {
      "cell_type": "markdown",
      "metadata": {},
      "source": [
        "### Q1.e\n",
        "\n",
        "When you have completed your menu in the part (c) you can remove the `#` charcters make this code run:"
      ]
    },
    {
      "cell_type": "code",
      "execution_count": 23,
      "metadata": {},
      "outputs": [
        {
          "name": "stdout",
          "output_type": "stream",
          "text": [
            "Most expensive item price: 13\n",
            "Most expensive item name: burger\n",
            "Number of vegetarian items: 8\n"
          ]
        }
      ],
      "source": [
        "menu_dict = {\n",
        "\"name\": list(menu.keys()),\n",
        "\"price\": [i[0] for i in menu.values()],\n",
        "\"vegetarian\": [i[1] for i in menu.values()]\n",
        "}\n",
        "\n",
        "most_expensive_price = max(menu_dict[\"price\"])\n",
        "most_expensive_item = menu_dict[\"name\"][np.argmax(menu_dict[\"price\"])]\n",
        "vegetarian_count = sum(menu_dict[\"vegetarian\"])\n",
        "\n",
        "print(f\"Most expensive item price: {most_expensive_price}\")\n",
        "print(f\"Most expensive item name: {most_expensive_item}\")\n",
        "print(f\"Number of vegetarian items: {vegetarian_count}\")"
      ]
    },
    {
      "cell_type": "markdown",
      "metadata": {},
      "source": [
        "Use this table to compute the following:\n",
        "\n",
        "* What is the price of the most expensive item in the list?\n",
        "* What is the name of the most expensive item? (You can use the `np.argmax()` function to help you.)\n",
        "* How many vegetarian items are there?\n",
        "\n",
        "\n",
        "\n",
        "### Question 2"
      ]
    },
    {
      "cell_type": "code",
      "execution_count": 24,
      "metadata": {},
      "outputs": [],
      "source": [
        "# run this to do question 2\n",
        "import pandas as pd"
      ]
    },
    {
      "cell_type": "markdown",
      "metadata": {},
      "source": [
        "### Q2.a\n",
        "\n",
        "Here's a Pandas `DataFrame` version of our menu table."
      ]
    },
    {
      "cell_type": "code",
      "execution_count": 25,
      "metadata": {},
      "outputs": [
        {
          "name": "stdout",
          "output_type": "stream",
          "text": [
            "Least expensive item: water\n",
            "Number of items costing between 5 and 10 dollars: 5\n",
            "Vegetarian items costing more than 10 dollars: ['pasta']\n"
          ]
        }
      ],
      "source": [
        "menu_df = pd.DataFrame({'name': ['salad',\n",
        "  'soup',\n",
        "  'pasta',\n",
        "  'sandwich',\n",
        "  'burger',\n",
        "  'fries',\n",
        "  'cake',\n",
        "  'cookie',\n",
        "  'water',\n",
        "  'coffee',\n",
        "  'soda'],\n",
        " 'price': [8, 5, 12, 9, 13, 6, 6, 3, 0, 2, 3],\n",
        " 'vegetarian': [True,\n",
        "  False,\n",
        "  True,\n",
        "  False,\n",
        "  False,\n",
        "  True,\n",
        "  True,\n",
        "  True,\n",
        "  True,\n",
        "  True,\n",
        "  True]})\n",
        "\n",
        "least_expensive_item = menu_df.loc[menu_df['price'].idxmin(), 'name']\n",
        "items_between_5_and_10 = menu_df[(menu_df['price'] >= 5) & (menu_df['price'] <= 10)].shape[0]\n",
        "vegetarian_above_10 = menu_df[(menu_df['vegetarian'] == True) & (menu_df['price'] > 10)]['name'].tolist()\n",
        "\n",
        "print(f\"Least expensive item: {least_expensive_item}\")\n",
        "print(f\"Number of items costing between 5 and 10 dollars: {items_between_5_and_10}\")\n",
        "print(f\"Vegetarian items costing more than 10 dollars: {vegetarian_above_10}\")"
      ]
    },
    {
      "cell_type": "markdown",
      "metadata": {},
      "source": [
        "Using **methods** for Series objects (i.e., methods called on the columns of the table. Compute the following:\n",
        "\n",
        "* The name of the least expensive item on the list.\n",
        "* The number of items that cost between 5 and 10 dollars (inclusive).\n",
        "* The names all of vegetarian items that cost more than 10 dollars."
      ]
    },
    {
      "cell_type": "code",
      "execution_count": 26,
      "metadata": {},
      "outputs": [
        {
          "name": "stdout",
          "output_type": "stream",
          "text": [
            "Least expensive item: water\n",
            "Number of items costing between 5 and 10 dollars: 5\n",
            "Vegetarian items costing more than 10 dollars: ['pasta']\n"
          ]
        }
      ],
      "source": [
        "least_expensive_item = menu_df['name'][menu_df['price'].idxmin()]\n",
        "items_between_5_and_10 = menu_df['price'].between(5, 10).sum()\n",
        "vegetarian_above_10 = menu_df.loc[(menu_df['vegetarian']) & (menu_df['price'] > 10), 'name'].tolist()\n",
        "\n",
        "print(f\"Least expensive item: {least_expensive_item}\")\n",
        "print(f\"Number of items costing between 5 and 10 dollars: {items_between_5_and_10}\")\n",
        "print(f\"Vegetarian items costing more than 10 dollars: {vegetarian_above_10}\")"
      ]
    },
    {
      "cell_type": "markdown",
      "metadata": {},
      "source": [
        "### Q2.b\n",
        "\n",
        "Create a table that is only composed of items that cost less than or equal to $5 (call the `value_items`).\n"
      ]
    },
    {
      "cell_type": "markdown",
      "metadata": {},
      "source": [
        "How many vegetarian items are in this menu?"
      ]
    },
    {
      "cell_type": "code",
      "execution_count": 27,
      "metadata": {},
      "outputs": [
        {
          "name": "stdout",
          "output_type": "stream",
          "text": [
            "      name  price  vegetarian\n",
            "1     soup      5       False\n",
            "7   cookie      3        True\n",
            "8    water      0        True\n",
            "9   coffee      2        True\n",
            "10    soda      3        True\n",
            "Number of vegetarian items in value menu: 4\n"
          ]
        }
      ],
      "source": [
        "value_items = menu_df[menu_df['price'] <= 5]\n",
        "print(value_items)\n",
        "\n",
        "vegetarian_count = value_items['vegetarian'].sum()\n",
        "print(f\"Number of vegetarian items in value menu: {vegetarian_count}\")"
      ]
    },
    {
      "cell_type": "markdown",
      "metadata": {},
      "source": [
        "## Q2.c\n",
        "\n",
        "Let's use these techniques on some real data!"
      ]
    },
    {
      "cell_type": "code",
      "execution_count": 28,
      "metadata": {},
      "outputs": [
        {
          "data": {
            "text/plain": [
              "Index(['duration_ms', 'track.explicit', 'key', 'danceability', 'energy',\n",
              "       'loudness', 'acousticness', 'instrumentalness', 'liveness', 'tempo',\n",
              "       'time_signature', 'track.popularity', 'track.album.release_date',\n",
              "       'track.name', 'artist.name'],\n",
              "      dtype='object')"
            ]
          },
          "execution_count": 28,
          "metadata": {},
          "output_type": "execute_result"
        }
      ],
      "source": [
        "spotify = pd.read_csv(\"./spotify.csv\")\n",
        "spotify.columns"
      ]
    },
    {
      "cell_type": "markdown",
      "metadata": {},
      "source": [
        "Using Python and Pandas, answer the following questions:\n",
        "\n",
        "* How many songs have a popularity greater than 80?\n",
        "* For songs with a popularity greater than 80, what is the shortest song (in miliseconds)?\n",
        "* What is the name of the song with popularity greater than 80 that has the slowest tempo?"
      ]
    },
    {
      "cell_type": "code",
      "execution_count": 29,
      "metadata": {},
      "outputs": [
        {
          "name": "stdout",
          "output_type": "stream",
          "text": [
            "Number of songs with popularity greater than 80: 84\n",
            "Shortest song with popularity greater than 80 (in ms): 109091\n",
            "Name of the shortest song: Uno\n",
            "Name of the song with the slowest tempo: Lover\n"
          ]
        }
      ],
      "source": [
        "# Number of songs with popularity greater than 80\n",
        "popular_songs = spotify[spotify['track.popularity'] > 80]\n",
        "num_popular_songs = popular_songs.shape[0]\n",
        "\n",
        "# Shortest song with popularity greater than 80\n",
        "shortest_song_duration = popular_songs['duration_ms'].min()\n",
        "shortest_song = popular_songs.loc[popular_songs['duration_ms'].idxmin(), 'track.name']\n",
        "\n",
        "# Song with popularity greater than 80 that has the slowest tempo\n",
        "slowest_tempo = popular_songs['tempo'].min()\n",
        "slowest_tempo_song = popular_songs.loc[popular_songs['tempo'].idxmin(), 'track.name']\n",
        "\n",
        "print(f\"Number of songs with popularity greater than 80: {num_popular_songs}\")\n",
        "print(f\"Shortest song with popularity greater than 80 (in ms): {shortest_song_duration}\")\n",
        "print(f\"Name of the shortest song: {shortest_song}\")\n",
        "print(f\"Name of the song with the slowest tempo: {slowest_tempo_song}\")"
      ]
    },
    {
      "cell_type": "markdown",
      "metadata": {},
      "source": [
        "### Q2.d\n",
        "\n",
        "Here is a little code that will create a new column with four (approximately) evenly sized groups based on popularly (low, medium, medium high, and high). The code after creating the columns shows how many rows are in each group. There are a few songs with the same popularity value, which makes it difficult to get exactly evenly sized groups, but this is pretty close. The `(a, b]` output on the left shows the popularity range of that group."
      ]
    },
    {
      "cell_type": "code",
      "execution_count": 30,
      "metadata": {},
      "outputs": [
        {
          "data": {
            "text/plain": [
              "popgrp\n",
              "(-0.001, 41.0]    250\n",
              "(53.0, 67.0]      242\n",
              "(67.0, 100.0]     238\n",
              "(41.0, 53.0]      237\n",
              "Name: count, dtype: int64"
            ]
          },
          "execution_count": 30,
          "metadata": {},
          "output_type": "execute_result"
        }
      ],
      "source": [
        "spotify[\"popgrp\"] = pd.qcut(spotify[\"track.popularity\"], 4)\n",
        "spotify[\"popgrp\"].value_counts()"
      ]
    },
    {
      "cell_type": "markdown",
      "metadata": {},
      "source": [
        "For each group, find the number of explicit songs using the `\"track.explicit\"` column. Which group has the most explicit songs?"
      ]
    },
    {
      "cell_type": "code",
      "execution_count": null,
      "metadata": {
        "vscode": {
          "languageId": "r"
        }
      },
      "outputs": [],
      "source": [
        "explicit_counts = spotify.groupby(\"popgrp\")[\"track.explicit\"].sum()\n",
        "\n",
        "most_explicit_group = explicit_counts.idxmax()\n",
        "most_explicit_count = explicit_counts.max()\n",
        "\n",
        "print(f\"Number of explicit songs in each group:\\n{explicit_counts}\")\n",
        "print(f\"Group with the most explicit songs: {most_explicit_group} with {most_explicit_count} explicit songs\")"
      ]
    },
    {
      "cell_type": "markdown",
      "metadata": {},
      "source": [
        "### Q2.e\n",
        "\n",
        "Create a new column that is the product of `danceability` and `energy`. Find the song with the highest product of danceability and energy. Find the tempo of this song. Is it a particularly fast song in terms of tempo? How many songs are faster than this song? How many are slower?"
      ]
    },
    {
      "cell_type": "code",
      "execution_count": 31,
      "metadata": {},
      "outputs": [
        {
          "name": "stdout",
          "output_type": "stream",
          "text": [
            "Song with the highest product of danceability and energy: Miracle - Radio Edit\n",
            "Tempo of this song: 121.98\n",
            "Number of songs faster than this song: 394\n",
            "Number of songs slower than this song: 571\n"
          ]
        }
      ],
      "source": [
        "\n",
        "spotify['dance_energy'] = spotify['danceability'] * spotify['energy']\n",
        "\n",
        "max_dance_energy = spotify['dance_energy'].max()\n",
        "max_dance_energy_song = spotify.loc[spotify['dance_energy'].idxmax(), 'track.name']\n",
        "max_dance_energy_tempo = spotify.loc[spotify['dance_energy'].idxmax(), 'tempo']\n",
        "\n",
        "faster_songs_count = spotify[spotify['tempo'] > max_dance_energy_tempo].shape[0]\n",
        "slower_songs_count = spotify[spotify['tempo'] < max_dance_energy_tempo].shape[0]\n",
        "\n",
        "print(f\"Song with the highest product of danceability and energy: {max_dance_energy_song}\")\n",
        "print(f\"Tempo of this song: {max_dance_energy_tempo}\")\n",
        "print(f\"Number of songs faster than this song: {faster_songs_count}\")\n",
        "print(f\"Number of songs slower than this song: {slower_songs_count}\")"
      ]
    }
  ],
  "metadata": {
    "kernelspec": {
      "display_name": "Python 3 (ipykernel)",
      "language": "python",
      "name": "python3",
      "path": "/Users/mark/Documents/Professional/Teaching/umich/data-science-101-materials/env/share/jupyter/kernels/python3"
    },
    "language_info": {
      "codemirror_mode": {
        "name": "ipython",
        "version": 3
      },
      "file_extension": ".py",
      "mimetype": "text/x-python",
      "name": "python",
      "nbconvert_exporter": "python",
      "pygments_lexer": "ipython3",
      "version": "3.12.1"
    }
  },
  "nbformat": 4,
  "nbformat_minor": 4
}
